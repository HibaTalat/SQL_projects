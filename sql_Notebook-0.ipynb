{
    "metadata": {
        "kernelspec": {
            "name": "SQL",
            "display_name": "SQL",
            "language": "sql"
        },
        "language_info": {
            "name": "sql",
            "version": ""
        },
        "extensions": {
            "azuredatastudio": {
                "version": 1,
                "views": []
            }
        }
    },
    "nbformat_minor": 2,
    "nbformat": 4,
    "cells": [
        {
            "cell_type": "markdown",
            "source": [
                "SELECT * FROM dbo.NEW_Products;"
            ],
            "metadata": {
                "extensions": {
                    "azuredatastudio": {
                        "views": []
                    }
                },
                "azdata_cell_guid": "5a420b5c-1b85-4d78-80d3-5099e28368d3"
            }
        },
        {
            "cell_type": "markdown",
            "source": [
                "SELECT UniqueID FROM dbo.NEW_Products;"
            ],
            "metadata": {
                "extensions": {
                    "azuredatastudio": {
                        "views": []
                    }
                },
                "azdata_cell_guid": "bc7921db-d152-4ac5-8cf4-75ba3d36a7f4"
            }
        },
        {
            "cell_type": "markdown",
            "source": [
                "Query1: Standardized SaleDate by removing time"
            ],
            "metadata": {
                "extensions": {
                    "azuredatastudio": {
                        "views": []
                    }
                },
                "azdata_cell_guid": "065074d6-fe1b-428e-bbf9-bfc87d7a9b5b"
            }
        },
        {
            "cell_type": "markdown",
            "source": [
                "SELECT SaleDate, CONVERT(date,SaleDate) as new_SaleDate FROM dbo.NEW_Products;"
            ],
            "metadata": {
                "extensions": {
                    "azuredatastudio": {
                        "views": []
                    }
                },
                "azdata_cell_guid": "89858a55-632f-47b2-90fe-d69c4d04f0ff"
            }
        },
        {
            "cell_type": "markdown",
            "source": [
                "UPDATE NEW_Products"
            ],
            "metadata": {
                "extensions": {
                    "azuredatastudio": {
                        "views": []
                    }
                },
                "azdata_cell_guid": "368db244-e368-4d3b-ba84-36831ad8d92a"
            }
        },
        {
            "cell_type": "markdown",
            "source": [
                "Set SaleDate = CONVERT(date,SaleDate)"
            ],
            "metadata": {
                "extensions": {
                    "azuredatastudio": {
                        "views": []
                    }
                },
                "azdata_cell_guid": "c47afc22-fe35-43e9-b114-4765563bfffb"
            }
        },
        {
            "cell_type": "markdown",
            "source": [
                "FROM dbo.NEW_Products;"
            ],
            "metadata": {
                "extensions": {
                    "azuredatastudio": {
                        "views": []
                    }
                },
                "azdata_cell_guid": "b233e9c7-3341-478c-a550-5edd9511b4c3"
            }
        },
        {
            "cell_type": "markdown",
            "source": [
                "Populate PropertyAddress"
            ],
            "metadata": {
                "extensions": {
                    "azuredatastudio": {
                        "views": []
                    }
                },
                "azdata_cell_guid": "7d20a0bb-3e0b-4f8f-994f-088610c5d06a"
            }
        },
        {
            "cell_type": "markdown",
            "source": [
                "Null value exists in Property Addresses"
            ],
            "metadata": {
                "extensions": {
                    "azuredatastudio": {
                        "views": []
                    }
                },
                "azdata_cell_guid": "87f67209-1a9a-4dcb-86a6-0a08313c653d"
            }
        },
        {
            "cell_type": "code",
            "source": [
                "SELECT * FROM dbo.NEW_Products\n",
                "WHERE PropertyAddress is NULL\n",
                "\n",
                "-- if porperty id has an address and when the same property address doesnt have the\n",
                "-- address take it from the one that have\n",
                "\n",
                "SELECT ParcelID,PropertyAddress FROM dbo.NEW_Products\n",
                "ORDER BY ParcelID\n",
                "\n",
                "---- Checking purpose\n",
                "---- Below query shows number of times parcel ID repeats itself\n",
                "-- SELECT ParcelID, COUNT (*)\n",
                "-- FROM dbo.NEW_Products\n",
                "-- GROUP BY ParcelID\n",
                "-- HAVING COUNT(*) > 3\n",
                "-- --------\n",
                "-- Select PropertyAddress \n",
                "-- FROM dbo.NEW_Products\n",
                "-- WHERE ParcelID = '083 15 0 103.00'\n",
                "\n",
                "-----------------------------------------------------\n",
                "-- We are using ISNULL function to replace propertyaddress in table a with property address in table b where the value is null\n",
                "Select a.ParcelID,a.PropertyAddress,b.ParcelID,b.PropertyAddress, ISNULL(a.PropertyAddress,b.PropertyAddress)\n",
                "FROM dbo.NEW_Products a\n",
                "JOIN dbo.NEW_Products b\n",
                "ON a.ParcelID = b.ParcelID\n",
                "AND a.UNIQUEID <> b.UNIQUEID\n",
                "WHERE a.PropertyAddress is null\n",
                "\n",
                "---UPDATE\n",
                "UPDATE a \n",
                "SET PropertyAddress = ISNULL(a.PropertyAddress,b.PropertyAddress)\n",
                "FROM dbo.NEW_Products a\n",
                "JOIN dbo.NEW_Products b\n",
                "ON a.ParcelID = b.ParcelID\n",
                "AND a.UNIQUEID <> b.UNIQUEID\n",
                "WHERE a.PropertyAddress is null\n",
                "\n",
                "\n",
                "---- Breaking out the Address into individual columns (custom spliting)\n",
                "----- demiminator is comma hai \n",
                "SELECT PropertyAddress\n",
                "FROM dbo.NEW_Products\n",
                "--- substring looking into propertyaddress at position 1 and taking comma\n",
                "----- CharIndex will look for comma in propertyaddress . -1 will get rid of the comma\n",
                "-- SELECT SUBSTRING(PropertyAddress,1,CHARINDEX(',',PropertyAddress)-1)as Address\n",
                "-- FROM dbo.NEW_Products\n",
                "\n",
                "SELECT SUBSTRING(PropertyAddress,1,CHARINDEX(',',PropertyAddress)-1)as Address,\n",
                "SUBSTRING(PropertyAddress,CHARINDEX(',',PropertyAddress)+1, LEN(PropertyAddress))as Address\n",
                "FROM dbo.NEW_Products\n",
                "\n",
                "--- make changes in the table \n",
                "--- We cant separate two values from each other without showing another two columns \n",
                "\n",
                " ALTER TABLE NEW_Products\n",
                " Add PropertySplitAddress Nvarchar(255);\n",
                "\n",
                " UPDATE NEW_Products\n",
                " SET PropertySplitAddress = SUBSTRING(PropertyAddress,1,CHARINDEX(',',PropertyAddress)-1)\n",
                "\n",
                " ALTER TABLE NEW_Products\n",
                " Add PropertySplitCity NVARCHAR(255);\n",
                "\n",
                " UPDATE NEW_Products\n",
                " SET PropertySplitCity = SUBSTRING(PropertyAddress,CHARINDEX(',',PropertyAddress)+1, LEN(PropertyAddress))\n",
                "\n",
                "\n",
                "\n",
                "\n",
                "\n",
                "\n",
                "\n",
                "------ another way to custom split\n",
                "---- Parsename by default works on period, it works backward\n",
                "\n",
                "SELECT\n",
                "PARSENAME(REPLACE(OwnerAddress, ',','.'),3),\n",
                "PARSENAME(REPLACE(OwnerAddress, ',','.'),2),\n",
                "PARSENAME(REPLACE(OwnerAddress, ',','.'),1)\n",
                "FROM dbo.NEW_Products\n",
                "\n",
                "\n",
                "ALTER TABLE NEW_Products\n",
                " Add OwnerSplitAddress Nvarchar(255);\n",
                "\n",
                " UPDATE NEW_Products\n",
                " SET OwnerSplitAddress = PARSENAME(REPLACE(OwnerAddress, ',','.'),3)\n",
                "\n",
                " ALTER TABLE NEW_Products\n",
                " Add OwnerSplitCity NVARCHAR(255);\n",
                "\n",
                " UPDATE NEW_Products\n",
                " SET OwnerSplitCity = PARSENAME(REPLACE(OwnerAddress, ',','.'),2)\n",
                "\n",
                "ALTER TABLE NEW_Products\n",
                " Add OwnerSplitState Nvarchar(255);\n",
                "\n",
                " UPDATE NEW_Products\n",
                " SET OwnerSplitState = PARSENAME(REPLACE(OwnerAddress, ',','.'),1)\n",
                "\n",
                "------ CHANGE Y and N in SoldVacant to Yes and No\n",
                "--- view the number of Y and N\n",
                "SELECT DISTINCT SoldAsVacant, Count(*)\n",
                "FROM dbo.NEW_Products\n",
                "GROUP BY SoldAsVacant\n",
                "ORDER BY 2\n",
                "--- Check the query \n",
                "Select SoldAsVacant\n",
                ", CASE When SoldAsVacant = 'Y' THEN 'Yes'\n",
                "\t   When SoldAsVacant = 'N' THEN 'No'\n",
                "\t   ELSE SoldAsVacant\n",
                "\t   END\n",
                "From dbo.NEW_Products\n",
                "\n",
                "--- Update the Table\n",
                "\n",
                "UPDATE NEW_Products\n",
                "SET SoldAsVacant = CASE When SoldAsVacant = 'Y' THEN 'Yes'\n",
                "\t   When SoldAsVacant = 'N' THEN 'No'\n",
                "\t   ELSE SoldAsVacant\n",
                "\t   END\n",
                "--- checking the updated table\n",
                "\n",
                "SELECT DISTINCT SoldAsVacant, Count(*)\n",
                "FROM dbo.NEW_Products\n",
                "GROUP BY SoldAsVacant\n",
                "ORDER BY 2\n",
                "--------\n",
                "\n",
                "\n",
                "---- Dont want to make major changes in the original data \n",
                "---- So created a clone table to delete duplicate rows.\n",
                "\n",
                "SELECT * INTO Nashville_Housing\n",
                "FROM NEW_Products;\n",
                "\n",
                "---- Column name displayed to check \n",
                "--- you can check under column names too in left hand side\n",
                "SELECT COLUMN_NAME\n",
                "FROM INFORMATION_SCHEMA.COLUMNS\n",
                "WHERE TABLE_NAME ='Nashville_Housing'\n",
                "\n",
                "\n",
                "SELECT * FROM Nashville_Housing\n",
                "\n",
                "----- Delete Duplicate rows\n",
                "-------The ROW_NUMBER() is a window function that assigns a sequential integer number to each row in the query’s result set.\n",
                "--First, the CTE uses the ROW_NUMBER() function to find the duplicate rows specified by values in the first_name, last_name, and email columns.\n",
                "----Then, the DELETE statement deletes all the duplicate rows but keeps only one occurrence of each duplicate group.\n",
                "--- Following query is used to see row_num > 2\n",
                "Select * FROM (SELECT *,\n",
                "ROW_NUMBER() OVER(\n",
                "    PARTITION BY ParcelID,\n",
                "                PropertyAddress,\n",
                "\t\t\t\t SalePrice,\n",
                "\t\t\t\t SaleDate,\n",
                "\t\t\t\t LegalReference,\n",
                "                 Acreage\n",
                "\t\t\t\t ORDER BY\n",
                "\t\t\t\t\tUniqueID\n",
                "\t\t\t\t\t)as row_num\n",
                "\n",
                "From dbo.Nashville_Housing \n",
                ") AS new\n",
                "WHERE row_num >1\n",
                "\n",
                "--- Another way of using it by CTE\n",
                "\n",
                "WITH RowNumCTE AS(\n",
                "Select *,\n",
                "\tROW_NUMBER() OVER (\n",
                "\tPARTITION BY ParcelID,\n",
                "\t\t\t\t PropertyAddress,\n",
                "\t\t\t\t SalePrice,\n",
                "\t\t\t\t SaleDate,\n",
                "\t\t\t\t LegalReference,\n",
                "                 Acreage\n",
                "\t\t\t\t ORDER BY\n",
                "\t\t\t\t\tUniqueID\n",
                "\t\t\t\t\t) row_num\n",
                "\n",
                "From dbo.Nashville_Housing\n",
                ")\n",
                "Select *\n",
                "From RowNumCTE\n",
                "Where row_num > 1\n",
                "Order BY PropertyAddress\n",
                "\n",
                "\n",
                "--- Delete duplicates now\n",
                "\n",
                "WITH RowNumCTE AS(\n",
                "Select *,\n",
                "\tROW_NUMBER() OVER (\n",
                "\tPARTITION BY ParcelID,\n",
                "\t\t\t\t PropertyAddress,\n",
                "\t\t\t\t SalePrice,\n",
                "\t\t\t\t SaleDate,\n",
                "\t\t\t\t LegalReference,\n",
                "                 Acreage\n",
                "\t\t\t\t ORDER BY UniqueID\n",
                "\t\t\t\t\t) row_num\n",
                "\n",
                "From dbo.Nashville_Housing\n",
                ")\n",
                "DELETE\n",
                "From RowNumCTE\n",
                "Where row_num > 1\n",
                "--Order BY PropertyAddress\n",
                "\n",
                "\n",
                "---- Delete unused Columns\n",
                "--- owneraddress, propertyaddress, taxdistrict\n",
                "\n",
                "\n",
                "ALTER TABLE dbo.Nashville_Housing\n",
                "DROP COLUMN OwnerAddress, TaxDistrict, PropertyAddress, SaleDate\n",
                "\n",
                "-- checking column names again\n",
                "SELECT COLUMN_NAME\n",
                "FROM INFORMATION_SCHEMA.COLUMNS\n",
                "WHERE TABLE_NAME ='Nashville_Housing'"
            ],
            "metadata": {
                "extensions": {
                    "azuredatastudio": {
                        "views": []
                    }
                },
                "azdata_cell_guid": "4db8554e-327c-424e-afba-93d202b4e362"
            },
            "outputs": [],
            "execution_count": null
        }
    ]
}